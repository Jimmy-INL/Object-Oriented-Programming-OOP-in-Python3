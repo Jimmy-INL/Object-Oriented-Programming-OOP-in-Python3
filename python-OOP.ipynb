{
 "cells": [
  {
   "cell_type": "code",
   "execution_count": 1,
   "metadata": {},
   "outputs": [],
   "source": [
    "# Python - Object Oriented Programming (OOP)"
   ]
  },
  {
   "cell_type": "code",
   "execution_count": 2,
   "metadata": {},
   "outputs": [],
   "source": [
    "# An object has two characteristics:\n",
    "# 1) Attributes\n",
    "# 2) behavior"
   ]
  },
  {
   "cell_type": "code",
   "execution_count": 3,
   "metadata": {},
   "outputs": [],
   "source": [
    "# The concept of OOP in Python focuses on creating a reusable code "
   ]
  },
  {
   "cell_type": "code",
   "execution_count": 4,
   "metadata": {},
   "outputs": [],
   "source": [
    "# A class is a blueprint for the object"
   ]
  },
  {
   "cell_type": "code",
   "execution_count": 8,
   "metadata": {},
   "outputs": [],
   "source": [
    "class person:\n",
    "    # class attribute\n",
    "    info = \"human\"\n",
    "    \n",
    "    # instance attributes\n",
    "    def __init__(self, firstname, lastname, age):\n",
    "        self.firstname = firstname\n",
    "        self.lastname = lastname\n",
    "        self.age = age"
   ]
  },
  {
   "cell_type": "code",
   "execution_count": 9,
   "metadata": {},
   "outputs": [],
   "source": [
    "tom = person(\"Tom\", \"Powell\", 21) #instance of the person class, tom is a reference to our new object"
   ]
  },
  {
   "cell_type": "code",
   "execution_count": 10,
   "metadata": {},
   "outputs": [],
   "source": [
    "bob = person(\"Bob\", \"Lonnert\", 34)"
   ]
  },
  {
   "cell_type": "code",
   "execution_count": 11,
   "metadata": {},
   "outputs": [
    {
     "name": "stdout",
     "output_type": "stream",
     "text": [
      "human\n"
     ]
    }
   ],
   "source": [
    "print(tom.__class__.info)        # acess class attribute by .__class__.attribute_name "
   ]
  },
  {
   "cell_type": "code",
   "execution_count": 12,
   "metadata": {},
   "outputs": [
    {
     "name": "stdout",
     "output_type": "stream",
     "text": [
      "21\n"
     ]
    }
   ],
   "source": [
    "print(tom.age)                   # access instance attribute by .attribute_name"
   ]
  },
  {
   "cell_type": "code",
   "execution_count": 13,
   "metadata": {},
   "outputs": [],
   "source": [
    "# Methods are functions defined inside the body of a class. They are used to define the behaviors of an object"
   ]
  },
  {
   "cell_type": "code",
   "execution_count": 15,
   "metadata": {},
   "outputs": [],
   "source": [
    "class person:\n",
    "    # class attribute\n",
    "    info = \"human\"\n",
    "    \n",
    "    # instance attributes\n",
    "    def __init__(self, firstname, lastname, age):\n",
    "        self.firstname = firstname\n",
    "        self.lastname = lastname\n",
    "        self.age = age\n",
    "    \n",
    "    # instance methods\n",
    "    def running(self):\n",
    "        return \"{} is running\".format(self.firstname)\n",
    "    \n",
    "    def sing(self, song):\n",
    "        return \"{} sings {}\".format(self.firstname, song)"
   ]
  },
  {
   "cell_type": "code",
   "execution_count": 16,
   "metadata": {},
   "outputs": [],
   "source": [
    "tom = person(\"Tom\", \"Powell\", 35)"
   ]
  },
  {
   "cell_type": "code",
   "execution_count": 18,
   "metadata": {},
   "outputs": [
    {
     "name": "stdout",
     "output_type": "stream",
     "text": [
      "Tom is running\n"
     ]
    }
   ],
   "source": [
    "print(tom.running())"
   ]
  },
  {
   "cell_type": "code",
   "execution_count": 19,
   "metadata": {},
   "outputs": [
    {
     "name": "stdout",
     "output_type": "stream",
     "text": [
      "Tom sings lalallalala\n"
     ]
    }
   ],
   "source": [
    "print(tom.sing(\"lalallalala\"))"
   ]
  },
  {
   "cell_type": "code",
   "execution_count": 20,
   "metadata": {},
   "outputs": [],
   "source": [
    "# Inheritance is a way of creating a new class for using details of existing class without modifying it.\n",
    "# The new class is called a derived class (or child class)\n",
    "# The existing class is called a base class (or parent class)"
   ]
  },
  {
   "cell_type": "code",
   "execution_count": 66,
   "metadata": {},
   "outputs": [],
   "source": [
    "class person:\n",
    "    # class attribute\n",
    "    info = \"human\"\n",
    "    \n",
    "    # instance attributes\n",
    "    def __init__(self, firstname, lastname, age):\n",
    "        self.firstname = firstname\n",
    "        self.lastname = lastname\n",
    "        self.age = age\n",
    "    \n",
    "    def whoisthis(self):\n",
    "        print(\"human\")\n",
    "    \n",
    "    def running(self):\n",
    "        print( \"{} is running\".format(self.firstname))\n",
    "    \n",
    "\n",
    "# child class\n",
    "class adult(person):\n",
    "    def __init__(self, firstname, lastname, age):\n",
    "        # call super() function\n",
    "        super().__init__(firstname, lastname, age)\n",
    "        print(\"Adult\")\n",
    "        \n",
    "    def whoisthis(self):\n",
    "        print(\"Adult\")\n",
    "    \n",
    "    def sing(self, song):\n",
    "        print( \"{} sings {}\".format(self.firstname, song))"
   ]
  },
  {
   "cell_type": "code",
   "execution_count": 67,
   "metadata": {},
   "outputs": [
    {
     "name": "stdout",
     "output_type": "stream",
     "text": [
      "Adult\n"
     ]
    }
   ],
   "source": [
    "tom = adult(\"Tom\", \"Powell\", 35)"
   ]
  },
  {
   "cell_type": "code",
   "execution_count": 68,
   "metadata": {},
   "outputs": [
    {
     "name": "stdout",
     "output_type": "stream",
     "text": [
      "Adult\n"
     ]
    }
   ],
   "source": [
    "tom.whoisthis()"
   ]
  },
  {
   "cell_type": "code",
   "execution_count": 69,
   "metadata": {},
   "outputs": [
    {
     "name": "stdout",
     "output_type": "stream",
     "text": [
      "Tom sings lalalallala\n"
     ]
    }
   ],
   "source": [
    "tom.sing(\"lalalallala\")"
   ]
  },
  {
   "cell_type": "code",
   "execution_count": 70,
   "metadata": {},
   "outputs": [
    {
     "name": "stdout",
     "output_type": "stream",
     "text": [
      "Tom is running\n"
     ]
    }
   ],
   "source": [
    "tom.running()"
   ]
  },
  {
   "cell_type": "code",
   "execution_count": 71,
   "metadata": {},
   "outputs": [],
   "source": [
    "# So we created two classes: person (parent class) and adult (child class)\n",
    "# The child class inherits the functions of parent class - you can use running function\n",
    "# The child class modified the behavior of the parent class - whoisthis method gives Adult (not human)"
   ]
  },
  {
   "cell_type": "code",
   "execution_count": null,
   "metadata": {},
   "outputs": [],
   "source": []
  }
 ],
 "metadata": {
  "kernelspec": {
   "display_name": "Python 3",
   "language": "python",
   "name": "python3"
  },
  "language_info": {
   "codemirror_mode": {
    "name": "ipython",
    "version": 3
   },
   "file_extension": ".py",
   "mimetype": "text/x-python",
   "name": "python",
   "nbconvert_exporter": "python",
   "pygments_lexer": "ipython3",
   "version": "3.6.5"
  }
 },
 "nbformat": 4,
 "nbformat_minor": 2
}
